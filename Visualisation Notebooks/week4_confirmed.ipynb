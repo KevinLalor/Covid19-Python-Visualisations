{
 "cells": [
  {
   "cell_type": "markdown",
   "metadata": {},
   "source": [
    "# Visualisation 2 (Week 4) – Cases code + Graph\n"
   ]
  },
  {
   "cell_type": "code",
   "execution_count": 1,
   "metadata": {},
   "outputs": [],
   "source": [
    "import pandas as pd\n",
    "import matplotlib.pyplot as plt\n",
    "import numpy as np\n",
    "import matplotlib.ticker as ticker\n",
    "#Read in from Raw url , updates everyday.\n",
    "confirmed = \"https://raw.githubusercontent.com/CSSEGISandData/COVID-19/master/csse_covid_19_data/csse_covid_19_time_series/time_series_covid19_confirmed_global.csv\"\n",
    "#Create a dataframe with confirmed cases and turns the date columsn into date objects instead of strings\n",
    "df = pd.read_csv(confirmed, parse_dates=True)\n",
    "#Drop the province/state column as it is redundent for our objective\n",
    "df.drop(columns=['Province/State','Lat','Long'], inplace = True )\n",
    "#Melt function to narrow our dataframe and make Date it's own columm / index\n",
    "df = df.melt(['Country/Region'],df.drop('Country/Region', axis=1),'Date', 'Confirmed', 0)\n",
    "\n",
    "#setting country and date as our index for later iterations and data manipulation\n",
    "df = df.set_index(['Country/Region', 'Date'])\n",
    "#Group by country / date to see each country in order with every date + add confirmed cases column\n",
    "df = df.groupby(['Country/Region', 'Date'])['Confirmed'].sum()\n",
    "df = pd.DataFrame(df)\n",
    "#Reset index so we can access Date adn change all the dates to datetime objects.\n",
    "df = df.reset_index()\n",
    "df['Date'] = pd.to_datetime(df['Date'])\n",
    "#Drop all columns from our dataframe that has less than 100 confirmed cases\n",
    "df = df.loc[(df.drop(columns=['Country/Region','Date']) >= 100).any(1)]\n",
    "#Make a Number of Days since the 100th date column and fill them with null values\n",
    "df['Number of Days'] = df['Date'] - df['Date']\n",
    "#Reset index to allow for sorting in alphabetical order \n",
    "df = df.set_index(['Country/Region', 'Date'])\n",
    "df = df.sort_values(['Country/Region', 'Date'], ascending = True)\n"
   ]
  },
  {
   "cell_type": "markdown",
   "metadata": {},
   "source": [
    "### Cell below used to check specific values + test to make sure what I had done above seemed correct"
   ]
  },
  {
   "cell_type": "code",
   "execution_count": 2,
   "metadata": {},
   "outputs": [
    {
     "data": {
      "text/html": [
       "<div>\n",
       "<style scoped>\n",
       "    .dataframe tbody tr th:only-of-type {\n",
       "        vertical-align: middle;\n",
       "    }\n",
       "\n",
       "    .dataframe tbody tr th {\n",
       "        vertical-align: top;\n",
       "    }\n",
       "\n",
       "    .dataframe thead th {\n",
       "        text-align: right;\n",
       "    }\n",
       "</style>\n",
       "<table border=\"1\" class=\"dataframe\">\n",
       "  <thead>\n",
       "    <tr style=\"text-align: right;\">\n",
       "      <th></th>\n",
       "      <th></th>\n",
       "      <th>Confirmed</th>\n",
       "      <th>Number of Days</th>\n",
       "    </tr>\n",
       "    <tr>\n",
       "      <th>Country/Region</th>\n",
       "      <th>Date</th>\n",
       "      <th></th>\n",
       "      <th></th>\n",
       "    </tr>\n",
       "  </thead>\n",
       "  <tbody>\n",
       "    <tr>\n",
       "      <th rowspan=\"5\" valign=\"top\">Afghanistan</th>\n",
       "      <th>2020-03-28</th>\n",
       "      <td>107</td>\n",
       "      <td>0 days</td>\n",
       "    </tr>\n",
       "    <tr>\n",
       "      <th>2020-03-29</th>\n",
       "      <td>118</td>\n",
       "      <td>0 days</td>\n",
       "    </tr>\n",
       "    <tr>\n",
       "      <th>2020-03-30</th>\n",
       "      <td>146</td>\n",
       "      <td>0 days</td>\n",
       "    </tr>\n",
       "    <tr>\n",
       "      <th>2020-03-31</th>\n",
       "      <td>175</td>\n",
       "      <td>0 days</td>\n",
       "    </tr>\n",
       "    <tr>\n",
       "      <th>2020-04-01</th>\n",
       "      <td>197</td>\n",
       "      <td>0 days</td>\n",
       "    </tr>\n",
       "    <tr>\n",
       "      <th>...</th>\n",
       "      <th>...</th>\n",
       "      <td>...</td>\n",
       "      <td>...</td>\n",
       "    </tr>\n",
       "    <tr>\n",
       "      <th rowspan=\"5\" valign=\"top\">Zimbabwe</th>\n",
       "      <th>2021-02-14</th>\n",
       "      <td>35172</td>\n",
       "      <td>0 days</td>\n",
       "    </tr>\n",
       "    <tr>\n",
       "      <th>2021-02-15</th>\n",
       "      <td>35222</td>\n",
       "      <td>0 days</td>\n",
       "    </tr>\n",
       "    <tr>\n",
       "      <th>2021-02-16</th>\n",
       "      <td>35315</td>\n",
       "      <td>0 days</td>\n",
       "    </tr>\n",
       "    <tr>\n",
       "      <th>2021-02-17</th>\n",
       "      <td>35423</td>\n",
       "      <td>0 days</td>\n",
       "    </tr>\n",
       "    <tr>\n",
       "      <th>2021-02-18</th>\n",
       "      <td>35543</td>\n",
       "      <td>0 days</td>\n",
       "    </tr>\n",
       "  </tbody>\n",
       "</table>\n",
       "<p>56365 rows × 2 columns</p>\n",
       "</div>"
      ],
      "text/plain": [
       "                           Confirmed Number of Days\n",
       "Country/Region Date                                \n",
       "Afghanistan    2020-03-28        107         0 days\n",
       "               2020-03-29        118         0 days\n",
       "               2020-03-30        146         0 days\n",
       "               2020-03-31        175         0 days\n",
       "               2020-04-01        197         0 days\n",
       "...                              ...            ...\n",
       "Zimbabwe       2021-02-14      35172         0 days\n",
       "               2021-02-15      35222         0 days\n",
       "               2021-02-16      35315         0 days\n",
       "               2021-02-17      35423         0 days\n",
       "               2021-02-18      35543         0 days\n",
       "\n",
       "[56365 rows x 2 columns]"
      ]
     },
     "execution_count": 2,
     "metadata": {},
     "output_type": "execute_result"
    }
   ],
   "source": [
    "#df.head(50)\n",
    "#df.tail(50)\n",
    "df"
   ]
  },
  {
   "cell_type": "markdown",
   "metadata": {},
   "source": [
    "### Iterating using .loc and np.arange to correctly insert number of days per country after it's 100th case.\n",
    "### correctly identifies the when a new country is iterated to."
   ]
  },
  {
   "cell_type": "code",
   "execution_count": null,
   "metadata": {},
   "outputs": [],
   "source": [
    "for row in df.iterrows():\n",
    "    df.loc[row[0][0], 'Number of Days'] = np.arange(0, len(df.loc[row[0][0], 'Number of Days']), 1)"
   ]
  },
  {
   "cell_type": "markdown",
   "metadata": {},
   "source": [
    "###  make a set() of countries and fill it with every country in the country column as it will not allow duplicates"
   ]
  },
  {
   "cell_type": "code",
   "execution_count": null,
   "metadata": {},
   "outputs": [],
   "source": [
    "countries = set()\n",
    "for row in df.iterrows():\n",
    "    countries.add(row[0][0])\n",
    "     \n",
    "#Double checking the new set\n",
    "countries"
   ]
  },
  {
   "cell_type": "markdown",
   "metadata": {},
   "source": [
    "### Resetting index to allow for easier access for making my graph"
   ]
  },
  {
   "cell_type": "code",
   "execution_count": null,
   "metadata": {},
   "outputs": [],
   "source": [
    "df = df.reset_index()\n",
    "df"
   ]
  },
  {
   "cell_type": "markdown",
   "metadata": {},
   "source": [
    "## Graph code"
   ]
  },
  {
   "cell_type": "code",
   "execution_count": null,
   "metadata": {},
   "outputs": [],
   "source": [
    "#Creating my figure to allow for multiple plots\n",
    "fig = plt.figure(figsize=(20,10))\n",
    "#For loop that uses my country set to create a df for every country, a list of data for that country and plot it.\n",
    "#If statements used to make certain countries stand out \n",
    "for country in countries:\n",
    "    \n",
    "    country_df = df[df['Country/Region'] == country ]\n",
    "    numDay_list = country_df[\"Number of Days\"].tolist()\n",
    "    confirmed_list = country_df[\"Confirmed\"].tolist()\n",
    "    x = numDay_list\n",
    "    y = confirmed_list\n",
    "    plt.plot(x, y, label = country, color = 'lightgray', linewidth=2, alpha=0.5)\n",
    "    \n",
    "    \n",
    "    if country == 'US':\n",
    "        plt.plot(x, y, label = country, color='blue', linewidth=1)\n",
    "        plt.plot(x, y, label = country, marker='o', markerfacecolor='white', markersize=5, color='blue', linewidth=1)\n",
    "        plt.annotate(country , xy=(numDay_list[-1] + 1, confirmed_list[-1] + 1), color='Black')\n",
    "                     \n",
    "    if country == 'Ireland':\n",
    "        plt.plot(x, y, label = country, marker='o', markerfacecolor='white', markersize=5, color='Green', linewidth=2)\n",
    "        plt.annotate(country , xy=(numDay_list[-1] + 1, confirmed_list[-1] + 1), color='Black')\n",
    "        \n",
    "    if country == 'Spain':\n",
    "        plt.plot(x, y, label = country, marker='o', markerfacecolor='white', markersize=5, color='red', linewidth=2)\n",
    "        plt.annotate(country , xy=(numDay_list[-1] + 1, confirmed_list[-1] + 1), color='Black')\n",
    "\n",
    "    if country == 'China':\n",
    "        plt.plot(x, y, label = country, marker='o', markerfacecolor='white', markersize=5, color='magenta', linewidth=2)\n",
    "        plt.annotate(country , xy=(numDay_list[-1] + 1, confirmed_list[-1] + 1), color='Black')\n",
    "        \n",
    "    if country == 'Korea, South':\n",
    "        plt.plot(x, y, label = country, marker='o', markerfacecolor='white', markersize=5, color='Yellow', linewidth=2)\n",
    "        plt.annotate(country , xy=(numDay_list[-1] + 1, confirmed_list[-1] + 1), color='Black')\n",
    "        \n",
    "    if country == 'Brazil':\n",
    "        plt.plot(x, y, label = country, marker='o', markerfacecolor='white', markersize=5, color='Brown', linewidth=2)\n",
    "        plt.annotate(country , xy=(numDay_list[-1] + 1, confirmed_list[-1] + 1), color='Black')\n",
    "        \n",
    "    if country == 'Lithuania':\n",
    "        plt.plot(x, y, label = country, marker='o', markerfacecolor='white', markersize=5, color='Purple', linewidth=2)\n",
    "        plt.annotate(country , xy=(numDay_list[-1] + 1, confirmed_list[-1] + 1), color='Black')\n",
    "        \n",
    "#Making x a list of the amount of days to allow doubling line to continue until the last day\n",
    "#This will also allow X to update everyday with my data\n",
    "x = list(range(1, df['Number of Days'].max()))\n",
    "#1day double\n",
    "double1 = [(2**(element)) * y[0] for element in x]\n",
    "plt.plot(x[:17], double1[:17], 'k--', alpha=.9)\n",
    "plt.annotate('1 DAY DOUBLING' , xy=(x[8], double1[10]), color='Black', rotation=77)\n",
    "#2day double\n",
    "double2 = [(2**(element/2)) * y[0] for element in x]\n",
    "plt.plot(x[:33], double2[:33],'k--', alpha=.9)\n",
    "plt.annotate('2 DAY DOUBLING' , xy=(x[19], double2[21]), color='Black', rotation=66)\n",
    "#5day double\n",
    "double5 = [(2**(element/5)) * y[0] for element in x]\n",
    "plt.plot(x[:80], double5[:80], 'k--', alpha=.9)\n",
    "plt.annotate('5 DAY DOUBLING' , xy=(x[68], double5[70]), color='Black', rotation=43)\n",
    "#7day double\n",
    "double7 = [(2**(element/7)) * y[0] for element in x]\n",
    "plt.plot(x[:120], double7[:120], 'k--', alpha=.9)\n",
    "plt.annotate('1 WEEK DOUBLING' , xy=(x[100], double7[102]), color='Black', rotation=33)\n",
    "#14day double\n",
    "double14 = [(2**(element/14)) * y[0] for element in x]\n",
    "plt.plot(x, double14, 'k--', alpha=.9)\n",
    "plt.annotate('2 WEEK DOUBLING' , xy=(x[140], double14[142]), color='Black', rotation=18)\n",
    "\n",
    "plt.title(\"Confirmed Cases Since the 100th Confirmed Case\")\n",
    "plt.xlabel(\"Number of Days\")\n",
    "plt.ylabel(\"Number of Confirmed Cases\")\n",
    "plt.yscale('log')\n",
    "plt.yticks([100, 200, 500, 1000, 2000, 5000, 10000, 20000, 50000, 100000, 250000, 500000, 1000000, 2000000, 3000000, 5000000], \n",
    "           ['100', '200', '500', '1,000', '2,000', '5,000', '10,000', '20,000', '50,000', '100,000', '250,000', '500,000', '1,000,000', '2,000,000', '3,000,000', '5,000,000'], \n",
    "           rotation=45)\n",
    "plt.grid(True)\n",
    "#plt.legend()\n",
    "plt.show()\n"
   ]
  },
  {
   "cell_type": "code",
   "execution_count": 7,
   "metadata": {},
   "outputs": [],
   "source": [
    "##### TESTING CELL \n",
    "\n",
    "# # check = [(2**(element+1)) * 100/3 for element in x]\n",
    "# print(check)\n",
    "\n",
    "# check[:10]\n",
    "\n",
    "# double1 = [(2**(element)) * y[0] for element in x]\n",
    "# print(double1[:7])\n",
    "# double2 = [(2**(element/2)) * y[0] for element in x]\n",
    "# print(double2[:7])\n",
    "# double5 = [(2**(element/5)) * y[0] for element in x]\n",
    "# print(double5[:7])\n",
    "# double7 = [(2**(element/7)) * y[0] for element in x]\n",
    "# print(double7[:8])\n",
    "\n",
    "# df"
   ]
  },
  {
   "cell_type": "code",
   "execution_count": null,
   "metadata": {},
   "outputs": [],
   "source": [
    "##### TESTING CELL\n",
    "\n",
    "# country_df = df[df['Country/Region'] == 'US' ]\n",
    "# country_df"
   ]
  }
 ],
 "metadata": {
  "kernelspec": {
   "display_name": "Python 3",
   "language": "python",
   "name": "python3"
  },
  "language_info": {
   "codemirror_mode": {
    "name": "ipython",
    "version": 3
   },
   "file_extension": ".py",
   "mimetype": "text/x-python",
   "name": "python",
   "nbconvert_exporter": "python",
   "pygments_lexer": "ipython3",
   "version": "3.8.5"
  }
 },
 "nbformat": 4,
 "nbformat_minor": 4
}
